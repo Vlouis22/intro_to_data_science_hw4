{
 "cells": [
  {
   "cell_type": "markdown",
   "metadata": {},
   "source": [
    "# Introduction to Data Science\n",
    "\n",
    "\n",
    "\n",
    "## Instructor\n",
    "\n",
    "    Dr. Fatima Boukari\n",
    "    Division: PEMaCS\n",
    "    \n",
    "    \n",
    " \n",
    "\n"
   ]
  },
  {
   "cell_type": "markdown",
   "metadata": {},
   "source": [
    "# Encoding methods comparison Label vs OneHot Encoder\n",
    "Encoders are very important for ML prediction model. Machines understand numbers, not text. We need to convert each text category to numbers in order for the machine to process them using mathematical equations. In ML models we are often required to convert the categorical i.e text features to its numeric representation. The two most common ways to do this is to use Label Encoder or OneHot Encoder. However, most of the ML newbies are not familiar with the impact of the choice of encoding has on their model, the accuracy of the model may shift by large numbers by using the right encoding at the right scenario.\n",
    "Typically, any structured dataset includes multiple columns – a combination of numerical as well as categorical variables. Ml models understand numbers. Tha's the reason we need to convert categorical columns to numerical columns so that a machine learning algorithm understands it. This process is called categorical encoding.\n",
    "\n",
    "Categorical encoding is a process of converting categories to numbers. \n",
    "## Different Approaches to Categorical Encoding\n",
    "There are multiple ways of handling Categorical variables. The two most widely used techniques:\n",
    "\n",
    "    - Label Encoding\n",
    "    - One-Hot Encoding\n",
    "We will see here the Label and OneHot Encoding impact on prediction accuracy."
   ]
  },
  {
   "cell_type": "code",
   "execution_count": 2,
   "metadata": {},
   "outputs": [],
   "source": [
    "import pandas as pd\n",
    "import matplotlib.pyplot as plt\n",
    "import seaborn as sns\n",
    "import numpy as np\n",
    "import numpy.random as nr\n",
    "import math\n",
    "from sklearn import preprocessing\n",
    "import sklearn.model_selection as ms\n",
    "from sklearn import linear_model\n",
    "import sklearn.metrics as sklm\n",
    "\n",
    "%matplotlib inline\n",
    "import os\n",
    "currentdirectory = os.getcwd()\n"
   ]
  },
  {
   "cell_type": "code",
   "execution_count": 3,
   "metadata": {},
   "outputs": [
    {
     "name": "stdout",
     "output_type": "stream",
     "text": [
      "(682, 22)\n"
     ]
    },
    {
     "data": {
      "text/html": [
       "<div>\n",
       "<style scoped>\n",
       "    .dataframe tbody tr th:only-of-type {\n",
       "        vertical-align: middle;\n",
       "    }\n",
       "\n",
       "    .dataframe tbody tr th {\n",
       "        vertical-align: top;\n",
       "    }\n",
       "\n",
       "    .dataframe thead th {\n",
       "        text-align: right;\n",
       "    }\n",
       "</style>\n",
       "<table border=\"1\" class=\"dataframe\">\n",
       "  <thead>\n",
       "    <tr style=\"text-align: right;\">\n",
       "      <th></th>\n",
       "      <th>customer_id</th>\n",
       "      <th>checking_account_status</th>\n",
       "      <th>loan_duration_mo</th>\n",
       "      <th>credit_history</th>\n",
       "      <th>purpose</th>\n",
       "      <th>loan_amount</th>\n",
       "      <th>savings_account_balance</th>\n",
       "      <th>time_employed_yrs</th>\n",
       "      <th>payment_pcnt_income</th>\n",
       "      <th>gender_status</th>\n",
       "      <th>...</th>\n",
       "      <th>property</th>\n",
       "      <th>age_yrs</th>\n",
       "      <th>other_credit_outstanding</th>\n",
       "      <th>home_ownership</th>\n",
       "      <th>number_loans</th>\n",
       "      <th>job_category</th>\n",
       "      <th>dependents</th>\n",
       "      <th>telephone</th>\n",
       "      <th>foreign_worker</th>\n",
       "      <th>bad_credit</th>\n",
       "    </tr>\n",
       "  </thead>\n",
       "  <tbody>\n",
       "    <tr>\n",
       "      <th>0</th>\n",
       "      <td>1122334</td>\n",
       "      <td>&lt; 0 DM</td>\n",
       "      <td>6</td>\n",
       "      <td>critical account - other non-bank loans</td>\n",
       "      <td>radio/television</td>\n",
       "      <td>1169</td>\n",
       "      <td>unknown/none</td>\n",
       "      <td>&gt;= 7 years</td>\n",
       "      <td>4</td>\n",
       "      <td>male-single</td>\n",
       "      <td>...</td>\n",
       "      <td>real estate</td>\n",
       "      <td>67</td>\n",
       "      <td>none</td>\n",
       "      <td>own</td>\n",
       "      <td>2</td>\n",
       "      <td>skilled</td>\n",
       "      <td>1</td>\n",
       "      <td>yes</td>\n",
       "      <td>yes</td>\n",
       "      <td>0</td>\n",
       "    </tr>\n",
       "    <tr>\n",
       "      <th>1</th>\n",
       "      <td>2051359</td>\n",
       "      <td>none</td>\n",
       "      <td>12</td>\n",
       "      <td>critical account - other non-bank loans</td>\n",
       "      <td>education</td>\n",
       "      <td>2096</td>\n",
       "      <td>&lt; 100 DM</td>\n",
       "      <td>4 - 7 years</td>\n",
       "      <td>2</td>\n",
       "      <td>male-single</td>\n",
       "      <td>...</td>\n",
       "      <td>real estate</td>\n",
       "      <td>49</td>\n",
       "      <td>none</td>\n",
       "      <td>own</td>\n",
       "      <td>1</td>\n",
       "      <td>unskilled-resident</td>\n",
       "      <td>2</td>\n",
       "      <td>none</td>\n",
       "      <td>yes</td>\n",
       "      <td>0</td>\n",
       "    </tr>\n",
       "    <tr>\n",
       "      <th>2</th>\n",
       "      <td>8740590</td>\n",
       "      <td>&lt; 0 DM</td>\n",
       "      <td>42</td>\n",
       "      <td>current loans paid</td>\n",
       "      <td>furniture/equipment</td>\n",
       "      <td>7882</td>\n",
       "      <td>&lt; 100 DM</td>\n",
       "      <td>4 - 7 years</td>\n",
       "      <td>2</td>\n",
       "      <td>male-single</td>\n",
       "      <td>...</td>\n",
       "      <td>building society savings/life insurance</td>\n",
       "      <td>45</td>\n",
       "      <td>none</td>\n",
       "      <td>for free</td>\n",
       "      <td>1</td>\n",
       "      <td>skilled</td>\n",
       "      <td>2</td>\n",
       "      <td>none</td>\n",
       "      <td>yes</td>\n",
       "      <td>0</td>\n",
       "    </tr>\n",
       "    <tr>\n",
       "      <th>3</th>\n",
       "      <td>3115687</td>\n",
       "      <td>none</td>\n",
       "      <td>36</td>\n",
       "      <td>current loans paid</td>\n",
       "      <td>education</td>\n",
       "      <td>9055</td>\n",
       "      <td>unknown/none</td>\n",
       "      <td>1 - 4 years</td>\n",
       "      <td>2</td>\n",
       "      <td>male-single</td>\n",
       "      <td>...</td>\n",
       "      <td>unknown-none</td>\n",
       "      <td>35</td>\n",
       "      <td>none</td>\n",
       "      <td>for free</td>\n",
       "      <td>1</td>\n",
       "      <td>unskilled-resident</td>\n",
       "      <td>2</td>\n",
       "      <td>yes</td>\n",
       "      <td>yes</td>\n",
       "      <td>0</td>\n",
       "    </tr>\n",
       "    <tr>\n",
       "      <th>4</th>\n",
       "      <td>8251714</td>\n",
       "      <td>none</td>\n",
       "      <td>24</td>\n",
       "      <td>current loans paid</td>\n",
       "      <td>furniture/equipment</td>\n",
       "      <td>2835</td>\n",
       "      <td>500 - 1000 DM</td>\n",
       "      <td>&gt;= 7 years</td>\n",
       "      <td>3</td>\n",
       "      <td>male-single</td>\n",
       "      <td>...</td>\n",
       "      <td>building society savings/life insurance</td>\n",
       "      <td>53</td>\n",
       "      <td>none</td>\n",
       "      <td>own</td>\n",
       "      <td>1</td>\n",
       "      <td>skilled</td>\n",
       "      <td>1</td>\n",
       "      <td>none</td>\n",
       "      <td>yes</td>\n",
       "      <td>0</td>\n",
       "    </tr>\n",
       "  </tbody>\n",
       "</table>\n",
       "<p>5 rows × 22 columns</p>\n",
       "</div>"
      ],
      "text/plain": [
       "   customer_id checking_account_status  loan_duration_mo  \\\n",
       "0      1122334                  < 0 DM                 6   \n",
       "1      2051359                    none                12   \n",
       "2      8740590                  < 0 DM                42   \n",
       "3      3115687                    none                36   \n",
       "4      8251714                    none                24   \n",
       "\n",
       "                            credit_history              purpose  loan_amount  \\\n",
       "0  critical account - other non-bank loans     radio/television         1169   \n",
       "1  critical account - other non-bank loans            education         2096   \n",
       "2                       current loans paid  furniture/equipment         7882   \n",
       "3                       current loans paid            education         9055   \n",
       "4                       current loans paid  furniture/equipment         2835   \n",
       "\n",
       "  savings_account_balance time_employed_yrs  payment_pcnt_income  \\\n",
       "0            unknown/none        >= 7 years                    4   \n",
       "1                < 100 DM       4 - 7 years                    2   \n",
       "2                < 100 DM       4 - 7 years                    2   \n",
       "3            unknown/none       1 - 4 years                    2   \n",
       "4           500 - 1000 DM        >= 7 years                    3   \n",
       "\n",
       "  gender_status  ...                                 property  age_yrs  \\\n",
       "0   male-single  ...                              real estate       67   \n",
       "1   male-single  ...                              real estate       49   \n",
       "2   male-single  ...  building society savings/life insurance       45   \n",
       "3   male-single  ...                             unknown-none       35   \n",
       "4   male-single  ...  building society savings/life insurance       53   \n",
       "\n",
       "  other_credit_outstanding  home_ownership number_loans        job_category  \\\n",
       "0                     none             own            2             skilled   \n",
       "1                     none             own            1  unskilled-resident   \n",
       "2                     none        for free            1             skilled   \n",
       "3                     none        for free            1  unskilled-resident   \n",
       "4                     none             own            1             skilled   \n",
       "\n",
       "   dependents telephone  foreign_worker bad_credit  \n",
       "0           1       yes             yes          0  \n",
       "1           2      none             yes          0  \n",
       "2           2      none             yes          0  \n",
       "3           2       yes             yes          0  \n",
       "4           1      none             yes          0  \n",
       "\n",
       "[5 rows x 22 columns]"
      ]
     },
     "execution_count": 3,
     "metadata": {},
     "output_type": "execute_result"
    }
   ],
   "source": [
    "# Loading the data set:\n",
    "credit = pd.read_csv('Credit.csv')\n",
    "print(credit.shape)\n",
    "credit.head()"
   ]
  },
  {
   "cell_type": "markdown",
   "metadata": {},
   "source": [
    "Q1: Show the number of rows per credit type (bad_credit 0 or 1):"
   ]
  },
  {
   "cell_type": "code",
   "execution_count": 12,
   "metadata": {},
   "outputs": [
    {
     "data": {
      "text/plain": [
       "bad_credit\n",
       "0    402\n",
       "1    280\n",
       "Name: count, dtype: int64"
      ]
     },
     "execution_count": 12,
     "metadata": {},
     "output_type": "execute_result"
    }
   ],
   "source": [
    "# solution\n",
    "# write you code here\n",
    "# Q1: Show the number of rows per credit type (bad_credit 0 or 1):\n",
    "\n",
    "credit['bad_credit'].value_counts()\n"
   ]
  },
  {
   "cell_type": "markdown",
   "metadata": {},
   "source": [
    "## Prepare data for scikit-learn model"
   ]
  },
  {
   "cell_type": "markdown",
   "metadata": {},
   "source": [
    "Q2: Create the numpy array of the label values required for the scikit-learn model:"
   ]
  },
  {
   "cell_type": "code",
   "execution_count": 20,
   "metadata": {},
   "outputs": [
    {
     "data": {
      "text/plain": [
       "0      0\n",
       "1      0\n",
       "2      0\n",
       "3      0\n",
       "4      0\n",
       "      ..\n",
       "677    1\n",
       "678    1\n",
       "679    1\n",
       "680    1\n",
       "681    1\n",
       "Name: bad_credit, Length: 682, dtype: int64"
      ]
     },
     "execution_count": 20,
     "metadata": {},
     "output_type": "execute_result"
    }
   ],
   "source": [
    "# Solution\n",
    "# Take the \"bad_credit\" column from the \n",
    "\n",
    "bad_credit = credit['bad_credit']\n",
    "bad_credit"
   ]
  },
  {
   "cell_type": "markdown",
   "metadata": {},
   "source": [
    "Q3: Create the numpy feature array or **model matrix**. Three step process:\n",
    "\n",
    "1. Encode the categorical string variables as integers.\n",
    "2. Transform the integer coded variables to dummy variables. \n",
    "3. Append each dummy coded categorical variable to the model matrix.  \n",
    "Logistic regression requires numerical inputs, but the inputs from the datasets are strings. Using the following function, modify it to convert those string categories into numerical values using integer encoding instead of OneHot encoding: \n",
    "\n",
    "************************************************************************************\n",
    "def encode_string(cat_features):\n",
    "    ## First encode the strings to numeric categories\n",
    "    enc = preprocessing.LabelEncoder() # Creates an object called enc from the LabelEncoder class\n",
    "    enc.fit(cat_features) # Assigns a numerical value to each string category\n",
    "    enc_cat_features = enc.transform(cat_features) # Converts the string categories into their assigned numerical values\n",
    "    ## Now, apply OneHot encoding\n",
    "    ohe = preprocessing.OneHotEncoder() # Creates an object called ohe from the OneHotEncoder class\n",
    "    encoded = ohe.fit(enc_cat_features.reshape(-1,1)) # Initializes the outputs by assigning each numerical value to an index\n",
    "    return encoded.transform(enc_cat_features.reshape(-1,1)).toarray() # Converts the numerically encoded values to one-hot encoded values\n",
    "    # Example: if there are 5 classes: 4 -> [0, 0, 0, 0, 1], 2 -> [0, 0, 1, 0, 0]\n",
    "categorical_columns = ['credit_history', 'purpose', 'gender_status', \n",
    "                       'time_in_residence', 'property']\n",
    "\n",
    "Features = encode_string(credit['checking_account_status'])\n",
    "for col in categorical_columns:\n",
    "    temp = encode_string(credit[col])\n",
    "    Features = np.concatenate([Features, temp], axis = 1) # Concatenates the features into one input array\n",
    "\n",
    "# Features contains only the categorical inputs\n",
    "\n",
    "print(Features.shape)\n",
    "print(Features[:2, :]) # Displaying 2 first samples\n",
    "credit.drop('bad_credit', axis=1).head(2)\n",
    "************************************************************************************"
   ]
  },
  {
   "cell_type": "code",
   "execution_count": null,
   "metadata": {},
   "outputs": [
    {
     "name": "stdout",
     "output_type": "stream",
     "text": [
      "(682, 6)\n",
      "[[1 1 7 3 3 2]\n",
      " [3 1 4 3 2 2]]\n"
     ]
    },
    {
     "data": {
      "text/html": [
       "<div>\n",
       "<style scoped>\n",
       "    .dataframe tbody tr th:only-of-type {\n",
       "        vertical-align: middle;\n",
       "    }\n",
       "\n",
       "    .dataframe tbody tr th {\n",
       "        vertical-align: top;\n",
       "    }\n",
       "\n",
       "    .dataframe thead th {\n",
       "        text-align: right;\n",
       "    }\n",
       "</style>\n",
       "<table border=\"1\" class=\"dataframe\">\n",
       "  <thead>\n",
       "    <tr style=\"text-align: right;\">\n",
       "      <th></th>\n",
       "      <th>customer_id</th>\n",
       "      <th>checking_account_status</th>\n",
       "      <th>loan_duration_mo</th>\n",
       "      <th>credit_history</th>\n",
       "      <th>purpose</th>\n",
       "      <th>loan_amount</th>\n",
       "      <th>savings_account_balance</th>\n",
       "      <th>time_employed_yrs</th>\n",
       "      <th>payment_pcnt_income</th>\n",
       "      <th>gender_status</th>\n",
       "      <th>...</th>\n",
       "      <th>time_in_residence</th>\n",
       "      <th>property</th>\n",
       "      <th>age_yrs</th>\n",
       "      <th>other_credit_outstanding</th>\n",
       "      <th>home_ownership</th>\n",
       "      <th>number_loans</th>\n",
       "      <th>job_category</th>\n",
       "      <th>dependents</th>\n",
       "      <th>telephone</th>\n",
       "      <th>foreign_worker</th>\n",
       "    </tr>\n",
       "  </thead>\n",
       "  <tbody>\n",
       "    <tr>\n",
       "      <th>0</th>\n",
       "      <td>1122334</td>\n",
       "      <td>&lt; 0 DM</td>\n",
       "      <td>6</td>\n",
       "      <td>critical account - other non-bank loans</td>\n",
       "      <td>radio/television</td>\n",
       "      <td>1169</td>\n",
       "      <td>unknown/none</td>\n",
       "      <td>&gt;= 7 years</td>\n",
       "      <td>4</td>\n",
       "      <td>male-single</td>\n",
       "      <td>...</td>\n",
       "      <td>4</td>\n",
       "      <td>real estate</td>\n",
       "      <td>67</td>\n",
       "      <td>none</td>\n",
       "      <td>own</td>\n",
       "      <td>2</td>\n",
       "      <td>skilled</td>\n",
       "      <td>1</td>\n",
       "      <td>yes</td>\n",
       "      <td>yes</td>\n",
       "    </tr>\n",
       "    <tr>\n",
       "      <th>1</th>\n",
       "      <td>2051359</td>\n",
       "      <td>none</td>\n",
       "      <td>12</td>\n",
       "      <td>critical account - other non-bank loans</td>\n",
       "      <td>education</td>\n",
       "      <td>2096</td>\n",
       "      <td>&lt; 100 DM</td>\n",
       "      <td>4 - 7 years</td>\n",
       "      <td>2</td>\n",
       "      <td>male-single</td>\n",
       "      <td>...</td>\n",
       "      <td>3</td>\n",
       "      <td>real estate</td>\n",
       "      <td>49</td>\n",
       "      <td>none</td>\n",
       "      <td>own</td>\n",
       "      <td>1</td>\n",
       "      <td>unskilled-resident</td>\n",
       "      <td>2</td>\n",
       "      <td>none</td>\n",
       "      <td>yes</td>\n",
       "    </tr>\n",
       "  </tbody>\n",
       "</table>\n",
       "<p>2 rows × 21 columns</p>\n",
       "</div>"
      ],
      "text/plain": [
       "   customer_id checking_account_status  loan_duration_mo  \\\n",
       "0      1122334                  < 0 DM                 6   \n",
       "1      2051359                    none                12   \n",
       "\n",
       "                            credit_history           purpose  loan_amount  \\\n",
       "0  critical account - other non-bank loans  radio/television         1169   \n",
       "1  critical account - other non-bank loans         education         2096   \n",
       "\n",
       "  savings_account_balance time_employed_yrs  payment_pcnt_income  \\\n",
       "0            unknown/none        >= 7 years                    4   \n",
       "1                < 100 DM       4 - 7 years                    2   \n",
       "\n",
       "  gender_status  ... time_in_residence     property age_yrs  \\\n",
       "0   male-single  ...                 4  real estate      67   \n",
       "1   male-single  ...                 3  real estate      49   \n",
       "\n",
       "   other_credit_outstanding home_ownership number_loans        job_category  \\\n",
       "0                      none            own            2             skilled   \n",
       "1                      none            own            1  unskilled-resident   \n",
       "\n",
       "  dependents  telephone foreign_worker  \n",
       "0          1        yes            yes  \n",
       "1          2       none            yes  \n",
       "\n",
       "[2 rows x 21 columns]"
      ]
     },
     "execution_count": 23,
     "metadata": {},
     "output_type": "execute_result"
    }
   ],
   "source": [
    "# function to convert string categories into numerical values \n",
    "# Note: You can use our Logistic Regression model code from above then modify it by \n",
    "# removing the OneHotEncoder.\n",
    "# Write you code here\n",
    "# Solution\n",
    "\n",
    "import numpy as np\n",
    "\n",
    "def encode_string(cat_features):\n",
    "    enc = preprocessing.LabelEncoder()\n",
    "    enc.fit(cat_features)\n",
    "    enc_cat_features = enc.transform(cat_features)\n",
    "    return enc_cat_features.reshape(-1,1)\n",
    "\n",
    "categorical_columns = ['credit_history', 'purpose', 'gender_status', \n",
    "                       'time_in_residence', 'property']\n",
    "\n",
    "Features = encode_string(credit['checking_account_status'])\n",
    "for col in categorical_columns:\n",
    "    temp = encode_string(credit[col])\n",
    "    Features = np.concatenate([Features, temp], axis = 1)\n",
    "\n",
    "print(Features.shape)\n",
    "print(Features[:2, :])\n",
    "credit.drop('bad_credit', axis=1).head(2)\n",
    "\n",
    "\n"
   ]
  },
  {
   "cell_type": "markdown",
   "metadata": {},
   "source": [
    "Q4: Concatenate the numeric features to the numpy array: "
   ]
  },
  {
   "cell_type": "code",
   "execution_count": 40,
   "metadata": {},
   "outputs": [
    {
     "name": "stdout",
     "output_type": "stream",
     "text": [
      "(682, 10)\n",
      "[[   1    1    7    3    3    2    6 1169    4   67]\n",
      " [   3    1    4    3    2    2   12 2096    2   49]]\n"
     ]
    }
   ],
   "source": [
    "# solution\n",
    "# Write your code here\n",
    "\n",
    "#Q4: Concatenate the numeric features to the numpy array: \n",
    "numeric_columns = ['loan_duration_mo', 'loan_amount', 'payment_pcnt_income', \"age_yrs\"]\n",
    "numeric_features = credit[numeric_columns].values\n",
    "\n",
    "data = np.concatenate([Features, numeric_features], axis=1)\n",
    "print(data.shape)\n",
    "print(data[:2, :])\n",
    "\n"
   ]
  },
  {
   "cell_type": "code",
   "execution_count": 108,
   "metadata": {},
   "outputs": [],
   "source": [
    "from sklearn.metrics import accuracy_score, classification_report"
   ]
  },
  {
   "cell_type": "code",
   "execution_count": 109,
   "metadata": {},
   "outputs": [],
   "source": [
    "## We will use the same Random sampling of the cases we used before to create independent training and test data\n",
    "nr.seed(9988)\n",
    "indx = range(Features.shape[0])\n",
    "indx = ms.train_test_split(indx, test_size = 300)\n",
    "X_train = Features[indx[0],:]\n",
    "y_train = np.ravel(labels[indx[0]])\n",
    "X_test = Features[indx[1],:]\n",
    "y_test = np.ravel(labels[indx[1]])"
   ]
  },
  {
   "cell_type": "markdown",
   "metadata": {},
   "source": [
    "Q5: Using StandardScaler function from the Scikit Learn preprocessing package to Zscore scale the numeric training features. "
   ]
  },
  {
   "cell_type": "code",
   "execution_count": 110,
   "metadata": {},
   "outputs": [
    {
     "data": {
      "text/plain": [
       "array([[-0.34468421,  0.11431291, -1.1255457 ,  0.89054376,  0.15148194,\n",
       "        -0.34876437, -0.27844135, -0.36056023,  0.87758834, -0.39053646],\n",
       "       [-1.16250638,  2.19371915, -1.1255457 , -1.27625698, -0.7526759 ,\n",
       "        -1.35047856,  1.13975324,  1.4394644 , -0.87758834,  1.7521555 ]])"
      ]
     },
     "execution_count": 110,
     "metadata": {},
     "output_type": "execute_result"
    }
   ],
   "source": [
    "# Solution\n"
   ]
  },
  {
   "cell_type": "markdown",
   "metadata": {},
   "source": [
    "Q6: Construct the logistic regression model using `linear_model` package.\n",
    "\n",
    "Use the `linear_model.LogisticRegression` and increase the number of iterations `max_iter` to 300 or higher so you can have convergence of the model."
   ]
  },
  {
   "cell_type": "code",
   "execution_count": 111,
   "metadata": {},
   "outputs": [
    {
     "data": {
      "text/plain": [
       "LogisticRegression(max_iter=300)"
      ]
     },
     "execution_count": 111,
     "metadata": {},
     "output_type": "execute_result"
    }
   ],
   "source": [
    "# Solution\n",
    "#Insert your code here\n"
   ]
  },
  {
   "cell_type": "markdown",
   "metadata": {},
   "source": [
    "Q7: Print the Intercept and the coefficients of the model: "
   ]
  },
  {
   "cell_type": "code",
   "execution_count": 112,
   "metadata": {},
   "outputs": [
    {
     "name": "stdout",
     "output_type": "stream",
     "text": [
      "[-0.49088909]\n",
      "[[-0.52596677  0.09881978 -0.18541427 -0.28978849  0.06928891  0.00476857\n",
      "   0.27692615  0.06763766  0.36563277 -0.17885399]]\n"
     ]
    }
   ],
   "source": [
    "# solution\n",
    "# Insert your code here\n",
    "print(      )\n",
    "print(   )"
   ]
  },
  {
   "cell_type": "markdown",
   "metadata": {},
   "source": [
    "Recall that the logistic regression model outputs probabilities for each class. The class with the highest probability is taken as the score (prediction). Execute the code and the cell below to compute and display a sample of these class probabilities for the test feature set. "
   ]
  },
  {
   "cell_type": "code",
   "execution_count": 113,
   "metadata": {},
   "outputs": [
    {
     "name": "stdout",
     "output_type": "stream",
     "text": [
      "[[0.54755658 0.45244342]\n",
      " [0.83934672 0.16065328]\n",
      " [0.58142291 0.41857709]\n",
      " [0.30605194 0.69394806]\n",
      " [0.78593788 0.21406212]\n",
      " [0.93543108 0.06456892]\n",
      " [0.60134555 0.39865445]\n",
      " [0.86377401 0.13622599]\n",
      " [0.64799374 0.35200626]\n",
      " [0.29537281 0.70462719]\n",
      " [0.56229358 0.43770642]\n",
      " [0.72085335 0.27914665]\n",
      " [0.64682701 0.35317299]\n",
      " [0.74242492 0.25757508]\n",
      " [0.52138632 0.47861368]]\n"
     ]
    }
   ],
   "source": [
    "probabilities = logistic_mod.predict_proba(X_test)   # Probabilty good credit [0] and bad credit [1]\n",
    "print(probabilities[:15,:])"
   ]
  },
  {
   "cell_type": "markdown",
   "metadata": {},
   "source": [
    "The first column is the probability of a score of $0$ and the second column is the probability of a score of $1$. "
   ]
  },
  {
   "cell_type": "markdown",
   "metadata": {},
   "source": [
    "Now that the class probabilities have been computed these values must be transformed into actual class scores. Recall that the log likelihoods for two-class logistic regression are computed by applying the sigmoid or logistic transformation to the output of the linear model. The simple choice is to set the threshold between the two likelihoods at $0.5$. The code in the cell below applies this initial threshold to the probability of a score of $0$ for the test data. A few examples along with the known labels are then displayed. Execute this code and examine the result.\n",
    "\n",
    "Evaluate the classification model:\n"
   ]
  },
  {
   "cell_type": "code",
   "execution_count": 114,
   "metadata": {},
   "outputs": [
    {
     "name": "stdout",
     "output_type": "stream",
     "text": [
      "Predicted [0 0 0 1 0 0 0 0 0 1 0 0 0 0 0]\n",
      "---------------------------------------------------------------\n",
      "real  out [0 1 0 1 0 0 0 0 0 1 1 0 1 0 1]\n"
     ]
    }
   ],
   "source": [
    "def score_model(probs, threshold):\n",
    "    return np.array([1 if x > threshold else 0 for x in probs[:,1]])\n",
    "scores = score_model(probabilities, 0.5)\n",
    "print(\"Predicted\",np.array(scores[:15])) # Predicted values\n",
    "print(\"---------------------------------------------------------------\")\n",
    "print(\"real  out\", y_test[:15]) # Actual values"
   ]
  },
  {
   "cell_type": "markdown",
   "metadata": {},
   "source": [
    "Some of the positive ($1$) predictions agree with the test labels in the second row, but several do not."
   ]
  },
  {
   "cell_type": "markdown",
   "metadata": {},
   "source": [
    "\n",
    "**Confusion matrix**"
   ]
  },
  {
   "cell_type": "code",
   "execution_count": 115,
   "metadata": {},
   "outputs": [
    {
     "name": "stdout",
     "output_type": "stream",
     "text": [
      "                 Confusion matrix\n",
      "                 Score positive    Score negative\n",
      "Actual positive       145                26\n",
      "Actual negative        74                55\n",
      "\n",
      "Accuracy  0.67\n",
      " \n",
      "           Positive      Negative\n",
      "Num case      171           129\n",
      "Precision    0.66          0.68\n",
      "Recall       0.85          0.43\n",
      "F1           0.74          0.52\n"
     ]
    }
   ],
   "source": [
    "def print_metrics(labels, scores):  # labels are our data output y_test, scores in result of our prediction\n",
    "    metrics = sklm.precision_recall_fscore_support(labels, scores)\n",
    "    conf = sklm.confusion_matrix(labels, scores)\n",
    "    print('                 Confusion matrix')\n",
    "    print('                 Score positive    Score negative')\n",
    "    print('Actual positive    %6d' % conf[0,0] + '             %5d' % conf[0,1])\n",
    "    print('Actual negative    %6d' % conf[1,0] + '             %5d' % conf[1,1])\n",
    "    print('')\n",
    "    print('Accuracy  %0.2f' % sklm.accuracy_score(labels, scores))\n",
    "    print(' ')\n",
    "    print('           Positive      Negative')\n",
    "    print('Num case   %6d' % metrics[3][0] + '        %6d' % metrics[3][1])\n",
    "    print('Precision  %6.2f' % metrics[0][0] + '        %6.2f' % metrics[0][1])\n",
    "    print('Recall     %6.2f' % metrics[1][0] + '        %6.2f' % metrics[1][1])\n",
    "    print('F1         %6.2f' % metrics[2][0] + '        %6.2f' % metrics[2][1])\n",
    "\n",
    "\n",
    "    \n",
    "print_metrics(y_test, scores)    "
   ]
  },
  {
   "cell_type": "code",
   "execution_count": 116,
   "metadata": {},
   "outputs": [
    {
     "data": {
      "image/png": "[encoded data removed]",
      "text/plain": [
       "<Figure size 432x288 with 1 Axes>"
      ]
     },
     "metadata": {
      "needs_background": "light"
     },
     "output_type": "display_data"
    }
   ],
   "source": [
    "def plot_auc(labels, probs):\n",
    "    ## Compute the false positive rate, true positive rate\n",
    "    ## and threshold along with the AUC\n",
    "    fpr, tpr, threshold = sklm.roc_curve(labels, probs[:,1])\n",
    "    auc = sklm.auc(fpr, tpr)\n",
    "    \n",
    "    ## Plot the result\n",
    "    plt.title('Receiver Operating Characteristic')\n",
    "    plt.plot(fpr, tpr, color = 'orange', label = 'AUC = %0.2f' % auc)\n",
    "    plt.legend(loc = 'lower right')\n",
    "    plt.plot([0, 1], [0, 1],'r--')\n",
    "    plt.xlim([0, 1])\n",
    "    plt.ylim([0, 1])\n",
    "    plt.ylabel('True Positive Rate')\n",
    "    plt.xlabel('False Positive Rate')\n",
    "    plt.show()\n",
    "    \n",
    "plot_auc(y_test, probabilities)    "
   ]
  },
  {
   "cell_type": "markdown",
   "metadata": {},
   "source": [
    "Q8: Compare the results and ROC, AUC with the results obtained using OneHot encoding. The results may not be significant in this problem case it is important to know that ordering patterns of integers leads to lower performance.\n",
    "\n",
    "You Answer here"
   ]
  },
  {
   "cell_type": "markdown",
   "metadata": {},
   "source": [
    "Q9: import the necessary libraries to answer the next question: cross validation\n"
   ]
  },
  {
   "cell_type": "code",
   "execution_count": null,
   "metadata": {},
   "outputs": [],
   "source": [
    "# Solution\n",
    "###########################################    \n",
    "# from    import"
   ]
  },
  {
   "cell_type": "markdown",
   "metadata": {},
   "source": [
    "Q10: Split the cases into training and test data sets using Cross-Validation to train and test the model. "
   ]
  },
  {
   "cell_type": "code",
   "execution_count": 117,
   "metadata": {},
   "outputs": [],
   "source": [
    "# create 3 and 5 folds. \n",
    "# KFold function has to be applied on the data and it returns an location (index) of the train and test samples.\n",
    "kf5 = KFold(n_splits=5, shuffle=False)\n",
    "kf3 = KFold(n_splits=3, shuffle=False)"
   ]
  },
  {
   "cell_type": "code",
   "execution_count": 118,
   "metadata": {},
   "outputs": [
    {
     "name": "stdout",
     "output_type": "stream",
     "text": [
      "Accuracy for the fold no. 1 on the test set: 0.49122807017543857\n",
      "Accuracy for the fold no. 2 on the test set: 0.6828193832599119\n",
      "Accuracy for the fold no. 3 on the test set: 0.05286343612334802\n"
     ]
    }
   ],
   "source": [
    "# Solution\n",
    "# to get the values from our data, we use np.take() to access a value at particular index\n",
    "i = 1\n",
    "for train_index, test_index in kf3.split(   ):\n",
    "    X_train =\n",
    "    X_test = \n",
    "    y_train = \n",
    "    y_test = \n",
    "        \n",
    "    #Train the model\n",
    "    logistic_mod = linear_model.LogisticRegression(max_iter=2500) \n",
    "    logistic_mod.fit(X_train, y_train)\n",
    "\n",
    "    #model.fit(X_train, y_train) #Training the model\n",
    "    print(f\"Accuracy for the fold no. {i} on the test set: {accuracy_score(y_test, logistic_mod.predict(X_test))}\")\n",
    "    i += 1"
   ]
  },
  {
   "cell_type": "code",
   "execution_count": 119,
   "metadata": {},
   "outputs": [
    {
     "name": "stdout",
     "output_type": "stream",
     "text": [
      "Accuracy for the fold no. 1 on the test set: 0.583941605839416\n",
      "Accuracy for the fold no. 2 on the test set: 0.5985401459854015\n",
      "Accuracy for the fold no. 3 on the test set: 0.6764705882352942\n",
      "Accuracy for the fold no. 4 on the test set: 0.20588235294117646\n",
      "Accuracy for the fold no. 5 on the test set: 0.25735294117647056\n"
     ]
    }
   ],
   "source": [
    "# Solution\n",
    "# to get the values from our data, we use np.take() to access a value at particular index\n",
    "i = 1\n",
    "for train_index, test_index in kf5.split(      ):\n",
    "    X_train = \n",
    "    X_test = \n",
    "    y_train =\n",
    "    y_test = \n",
    "        \n",
    "    #Train the model\n",
    "    logistic_mod = linear_model.LogisticRegression(max_iter=2500) \n",
    "    logistic_mod.fit(X_train, y_train)\n",
    "\n",
    "    #model.fit(X_train, y_train) #Training the model\n",
    "    print(f\"Accuracy for the fold no. {i} on the test set: {accuracy_score(y_test, logistic_mod.predict(X_test))}\")\n",
    "    i += 1"
   ]
  },
  {
   "cell_type": "markdown",
   "metadata": {},
   "source": [
    "Note that the results are for the purpose of the homework. In real world applications, we use different experiments using different models.  "
   ]
  }
 ],
 "metadata": {
  "kernelspec": {
   "display_name": "base",
   "language": "python",
   "name": "python3"
  },
  "language_info": {
   "codemirror_mode": {
    "name": "ipython",
    "version": 3
   },
   "file_extension": ".py",
   "mimetype": "text/x-python",
   "name": "python",
   "nbconvert_exporter": "python",
   "pygments_lexer": "ipython3",
   "version": "3.12.7"
  }
 },
 "nbformat": 4,
 "nbformat_minor": 2
}
